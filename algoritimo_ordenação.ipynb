{
  "nbformat": 4,
  "nbformat_minor": 0,
  "metadata": {
    "colab": {
      "name": "algoritimo ordenação.ipynb",
      "provenance": [],
      "authorship_tag": "ABX9TyNwj+n1/xrLJXSAOXxLO1UI",
      "include_colab_link": true
    },
    "kernelspec": {
      "name": "python3",
      "display_name": "Python 3"
    }
  },
  "cells": [
    {
      "cell_type": "markdown",
      "metadata": {
        "id": "view-in-github",
        "colab_type": "text"
      },
      "source": [
        "<a href=\"https://colab.research.google.com/github/michaellbrito/Grafana/blob/master/algoritimo_ordena%C3%A7%C3%A3o.ipynb\" target=\"_parent\"><img src=\"https://colab.research.google.com/assets/colab-badge.svg\" alt=\"Open In Colab\"/></a>"
      ]
    },
    {
      "cell_type": "code",
      "metadata": {
        "id": "etNUzvCx5ynd",
        "colab_type": "code",
        "colab": {}
      },
      "source": [
        "import math\n",
        "a = float(input(\"valor de A: \"))\n",
        "b = float(input(\"valor de B: \"))\n",
        "c = float(input(\"valor de C: \"))\n",
        "delta = b**2 - 4*a*c\n",
        "print (delta)\n",
        "raiz = math.sqrt(delta)\n",
        "\n",
        "x1= (-b+raiz)/(2*a)\n",
        "x2= (-b-raiz)/(2*a)\n",
        "\n",
        "print (x1)\n",
        "print (x2)"
      ],
      "execution_count": 0,
      "outputs": []
    },
    {
      "cell_type": "code",
      "metadata": {
        "id": "02RNMkmkmZhf",
        "colab_type": "code",
        "colab": {
          "base_uri": "https://localhost:8080/",
          "height": 34
        },
        "outputId": "abb1ef4c-7e35-4ff4-8ecd-948832127c86"
      },
      "source": [
        "lista = [1,9,4,2,5,9]\n",
        "for i in range(len(lista)):\n",
        " \n",
        "  menor = i\n",
        "\n",
        "  for j in range(len(lista)):\n",
        "    \n",
        "    if lista[j] < lista [menor]:\n",
        "      menor = j\n",
        "      aux = lista [i]\n",
        "      lista [i] = lista[menor]\n",
        "      lista [menor] = aux\n",
        "print (lista)\n",
        " "
      ],
      "execution_count": 95,
      "outputs": [
        {
          "output_type": "stream",
          "text": [
            "[9, 9, 5, 4, 2, 1]\n"
          ],
          "name": "stdout"
        }
      ]
    }
  ]
}