{
  "nbformat": 4,
  "nbformat_minor": 0,
  "metadata": {
    "colab": {
      "name": "Aula condições.ipynb",
      "provenance": [],
      "authorship_tag": "ABX9TyO2uQf4K0lFfsMSrGXoFV4z",
      "include_colab_link": true
    },
    "kernelspec": {
      "name": "python3",
      "display_name": "Python 3"
    }
  },
  "cells": [
    {
      "cell_type": "markdown",
      "metadata": {
        "id": "view-in-github",
        "colab_type": "text"
      },
      "source": [
        "<a href=\"https://colab.research.google.com/github/michaellbrito/Grafana/blob/master/Aula_condi%C3%A7%C3%B5es.ipynb\" target=\"_parent\"><img src=\"https://colab.research.google.com/assets/colab-badge.svg\" alt=\"Open In Colab\"/></a>"
      ]
    },
    {
      "cell_type": "code",
      "metadata": {
        "id": "_X86yAMtx9kH",
        "colab_type": "code",
        "colab": {
          "base_uri": "https://localhost:8080/",
          "height": 119
        },
        "outputId": "265b2b5e-6db6-46db-b953-6c8a5a2bd91f"
      },
      "source": [
        "x = -1\n",
        "y = -2\n",
        "a = 0\n",
        "b = 2\n",
        "if x > y:\n",
        "  print (\"x maior que y\")\n",
        "if x < y:\n",
        "  print (\"Y maior que x\")\n",
        "if x == y:\n",
        "  print (\"y = x\")\n",
        "\n",
        "if x == y:\n",
        "    print (\"ok\")\n",
        "else:\n",
        "    print (\"NOK\")\n",
        "print (\"COMPARACoES Encadeadas\")\n",
        "\n",
        "if x > y:\n",
        "  if x > 0:\n",
        "    print (\"x positivo\")\n",
        "  else:\n",
        "    print (\"x negativo\")\n",
        "else:\n",
        "  print (\"Y maior\")\n",
        "print (\"ELIF\")\n",
        "if a == b:\n",
        "    print (\"iguais\")\n",
        "elif a > 0:\n",
        "    print (\"x positivo\")\n",
        "else:\n",
        "    print (\"diferentes\")"
      ],
      "execution_count": 42,
      "outputs": [
        {
          "output_type": "stream",
          "text": [
            "x maior que y\n",
            "NOK\n",
            "COMPARACoES Encadeadas\n",
            "x negativo\n",
            "ELIF\n",
            "diferentes\n"
          ],
          "name": "stdout"
        }
      ]
    }
  ]
}